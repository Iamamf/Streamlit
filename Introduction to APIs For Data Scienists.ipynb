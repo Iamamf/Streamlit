{
 "cells": [
  {
   "cell_type": "markdown",
   "id": "e8a3f7cb",
   "metadata": {},
   "source": [
    "# Introduction to APIs"
   ]
  },
  {
   "cell_type": "markdown",
   "id": "fd3d015e",
   "metadata": {},
   "source": [
    "### **1. What is an API?**\n",
    "\n",
    "**Definition**:  \n",
    "An API is a set of **rules that allows one application to interact with another.** It defines the methods and data formats that programs should use to communicate with each other.\n",
    "\n",
    "- **Acronym**: API stands for \"Application Programming Interface.\"\n",
    "- **Purpose**: It acts like a messenger, taking a request from a user or system, sending it to another system, and then returning the response.\n",
    "\n",
    "#### **Real-World Example:**\n",
    "- Think of an API as a waiter in a restaurant. The waiter takes your order (request), delivers it to the kitchen (server), and brings back your food (response). You don’t need to know how the kitchen works; you just use the waiter (API) to get what you want. \n",
    "- You can also think of an API like a USB cable that connects a laptop to a phone, allowing them to communicate and exchange data."
   ]
  },
  {
   "cell_type": "markdown",
   "id": "7fa011c0",
   "metadata": {},
   "source": [
    "### **2. Types of APIs**\n",
    "\n",
    "There are various types of APIs, but we will focus on **Web APIs**, which allow applications to communicate over the web.\n",
    "\n",
    "- **Web APIs: Web APIs allow communication between servers and clients over the internet using HTTP/HTTPS (HyperText Transfer Protocol/ HyperText Transfer Protocol Secure).** They often return data in formats like JSON or XML. (HTTP/HTTPS are the protocols or rules used by Web APIs to communicate over the internet. Most modern Web APIs use HTTPS to ensure secure data transfer.)\n",
    "Example: RESTful APIs, GraphQL, SOAP.\n",
    "  \n",
    "  **Use Case**: When you use a weather app that shows data from a weather service, the app is using an API to fetch the data from a website.\n",
    "        \n",
    "___\n",
    "Other types of API include: Operating System APIs, Hardware APIs, Database APIs etc"
   ]
  },
  {
   "cell_type": "markdown",
   "id": "8ac606f1",
   "metadata": {},
   "source": [
    "### **3. Key Terms**\n",
    "\n",
    "1. **Request**: When you ask an API for information or services. This request is made through a URL (Uniform Resource Locator).\n",
    "   \n",
    "   **Example**: When you type a website URL into your browser, that’s a request.\n",
    "\n",
    "2. **Response**: The data returned by the API based on your request.\n",
    "   \n",
    "   **Example**: When the website loads, that’s the response from the server.\n",
    "\n",
    "3. **Endpoints**: The specific part of an API where you send your requests. (the particular webpage in the website that you're requesting for).\n",
    "\n",
    "4. **HTTP Methods**:\n",
    "   - **GET**: Retrieves data.\n",
    "   - **POST**: Sends data to create/update resources.\n",
    "   - **PUT**: Updates existing resources.\n",
    "   - **DELETE**: Deletes resources."
   ]
  },
  {
   "cell_type": "markdown",
   "id": "60d272ec",
   "metadata": {},
   "source": [
    "### **4. What Makes an API Request?**\n",
    "\n",
    "A request is made using:\n",
    "\n",
    "1. **URL**: The endpoint to send your request to.\n",
    "2. **HTTP Method**: Defines the type of request (GET, POST, etc.).\n",
    "3. **Headers**: Additional information sent along with the request (e.g., authentication tokens).\n",
    "4. **Body**: The actual data you’re sending (used mostly with POST and PUT)."
   ]
  },
  {
   "cell_type": "markdown",
   "id": "a76c0a25",
   "metadata": {},
   "source": [
    "### **5. API Response Format**\n",
    "\n",
    "APIs commonly return data in the following formats:\n",
    "- **JSON (JavaScript Object Notation)**: Lightweight and easy to read.\n",
    "- **XML (eXtensible Markup Language)**: More structured but less commonly used than JSON.\n",
    "\n",
    "**Example of JSON**:\n",
    "```json\n",
    "{\n",
    "  \"location\": \"Lagos\",\n",
    "  \"temperature\": 32,\n",
    "  \"condition\": \"Sunny\"\n",
    "}\n",
    "```"
   ]
  },
  {
   "cell_type": "markdown",
   "id": "80d644e0",
   "metadata": {},
   "source": [
    "### **6. Tools for Working with APIs**\n",
    "\n",
    "- **Postman**: A popular tool to manually test APIs by sending requests and viewing responses.\n",
    "- **Curl**: A command-line tool to interact with APIs.\n",
    "- **Python’s `requests` library**: One of the easiest ways to work with APIs programmatically."
   ]
  },
  {
   "cell_type": "markdown",
   "id": "3a2e3096",
   "metadata": {},
   "source": [
    "## 7. Making a Simple API Request in Python\n",
    "\n",
    "We’ll use the `requests` library to interact with a public API -OpenWeatherMap for weather data (Which is an example of a RESTful Web API)."
   ]
  },
  {
   "cell_type": "markdown",
   "id": "26f049fc",
   "metadata": {},
   "source": [
    "#### Step 1: Install  and import the `requests` library"
   ]
  },
  {
   "cell_type": "code",
   "execution_count": 38,
   "id": "74201d33",
   "metadata": {},
   "outputs": [],
   "source": [
    "# Uncomment if you haven't installed already\n",
    "# !pip install requests\n",
    "\n",
    "import requests\n",
    "import pandas as pd"
   ]
  },
  {
   "cell_type": "markdown",
   "id": "2cf999d8",
   "metadata": {},
   "source": [
    "#### Step 2: API Key Setup"
   ]
  },
  {
   "cell_type": "code",
   "execution_count": null,
   "id": "24625ef1",
   "metadata": {},
   "outputs": [],
   "source": [
    "# Many APIs require an API key to access their data. I have set up an API key with OpenWeather for this problem."
   ]
  },
  {
   "cell_type": "markdown",
   "id": "69d9fed7",
   "metadata": {},
   "source": [
    "#### Step 3: Making a GET Request to a Weather API"
   ]
  },
  {
   "cell_type": "code",
   "execution_count": 13,
   "id": "785b33c5",
   "metadata": {},
   "outputs": [],
   "source": [
    "# The base URL of the API endpoint\n",
    "url = \"http://api.openweathermap.org/data/2.5/weather\""
   ]
  },
  {
   "cell_type": "code",
   "execution_count": 20,
   "id": "8f07f400",
   "metadata": {},
   "outputs": [],
   "source": [
    "# Your API key\n",
    "api_key = \"9cf3177a3f8bc5f8c1cd50b8ebd6fa72\"\n",
    "\n",
    "# Parameters to pass to the API (e.g., city name and API key)\n",
    "params = {\n",
    "    'q': 'Lagos',   # The city you want to get weather data for\n",
    "    'appid': api_key,  # Your API key\n",
    "    'units': 'metric'  # Metric units for temperature\n",
    "}"
   ]
  },
  {
   "cell_type": "markdown",
   "id": "bce49cfd",
   "metadata": {},
   "source": [
    "#### Note that:\n",
    "- Every API has a detailed documentation page that outlines the base URL, the various endpoints you can use, the parameters to pass to the API and other guidelines. \n",
    "- You can find those of OpenWeatherMap here: https://openweathermap.org/api#current"
   ]
  },
  {
   "cell_type": "code",
   "execution_count": 22,
   "id": "f8042cba",
   "metadata": {},
   "outputs": [
    {
     "data": {
      "text/plain": [
       "True"
      ]
     },
     "execution_count": 22,
     "metadata": {},
     "output_type": "execute_result"
    }
   ],
   "source": [
    "# Send a GET request to the API\n",
    "response = requests.get(url, params=params)\n",
    "\n",
    "# Check if the request was successful\n",
    "response.status_code == 200"
   ]
  },
  {
   "cell_type": "code",
   "execution_count": 24,
   "id": "977ecb81",
   "metadata": {},
   "outputs": [
    {
     "data": {
      "text/plain": [
       "{'coord': {'lon': 3.75, 'lat': 6.5833},\n",
       " 'weather': [{'id': 500,\n",
       "   'main': 'Rain',\n",
       "   'description': 'light rain',\n",
       "   'icon': '10d'}],\n",
       " 'base': 'stations',\n",
       " 'main': {'temp': 26.18,\n",
       "  'feels_like': 26.18,\n",
       "  'temp_min': 26.18,\n",
       "  'temp_max': 26.18,\n",
       "  'pressure': 1012,\n",
       "  'humidity': 76,\n",
       "  'sea_level': 1012,\n",
       "  'grnd_level': 1012},\n",
       " 'visibility': 10000,\n",
       " 'wind': {'speed': 2.5, 'deg': 228, 'gust': 2.54},\n",
       " 'rain': {'1h': 0.87},\n",
       " 'clouds': {'all': 86},\n",
       " 'dt': 1727689882,\n",
       " 'sys': {'type': 1,\n",
       "  'id': 1185,\n",
       "  'country': 'NG',\n",
       "  'sunrise': 1727674370,\n",
       "  'sunset': 1727717808},\n",
       " 'timezone': 3600,\n",
       " 'id': 2332453,\n",
       " 'name': 'Lagos',\n",
       " 'cod': 200}"
      ]
     },
     "execution_count": 24,
     "metadata": {},
     "output_type": "execute_result"
    }
   ],
   "source": [
    "# Display the weather data as JSON\n",
    "response.json()"
   ]
  },
  {
   "cell_type": "code",
   "execution_count": 26,
   "id": "39945bcf",
   "metadata": {},
   "outputs": [
    {
     "name": "stdout",
     "output_type": "stream",
     "text": [
      "City: Lagos\n",
      "Temperature: 26.18°C\n",
      "Weather: light rain\n"
     ]
    }
   ],
   "source": [
    "# Parse the JSON response from the API to extract the weather data\n",
    "weather_data = response.json()\n",
    "\n",
    "# Print the name of the city from the parsed weather data\n",
    "print(f\"City: {weather_data['name']}\")\n",
    "\n",
    "# Print the current temperature in the city (in °C) from the 'main' section of the weather data\n",
    "print(f\"Temperature: {weather_data['main']['temp']}°C\")\n",
    "\n",
    "# Print the description of the current weather (e.g., clear, cloudy, etc.) from the 'weather' section of the data\n",
    "print(f\"Weather: {weather_data['weather'][0]['description']}\")"
   ]
  },
  {
   "cell_type": "markdown",
   "id": "a408465e",
   "metadata": {},
   "source": [
    "### 8. Let's use the OpenWeatherMap API to retrieve weather data for multiple cities and analyze the temperature and weather conditions using pandas."
   ]
  },
  {
   "cell_type": "markdown",
   "id": "68b11281",
   "metadata": {},
   "source": [
    "#### Problem Statement:\n",
    "1. **API Task**: Retrieve current weather data for at least five different cities using the OpenWeatherMap API.\n",
    "2. **Data Requirements**: For each city, collect the following data points:\n",
    "   - City Name\n",
    "   - Temperature (in °C)\n",
    "   - Weather Description (e.g., clear, rainy, cloudy)\n",
    "   - Humidity (%)\n",
    "   - Wind Speed (m/s)\n",
    "\n",
    "3. **Analysis Task**: After collecting the data, store it in a pandas DataFrame and perform the following analyses:\n",
    "   - Display the average temperature across all cities.\n",
    "   - Identify the city with the highest wind speed.\n",
    "   - Count how many cities are experiencing clear weather."
   ]
  },
  {
   "cell_type": "code",
   "execution_count": 28,
   "id": "bab51d49",
   "metadata": {},
   "outputs": [],
   "source": [
    "# Your OpenWeatherMap API key\n",
    "api_key = \"9cf3177a3f8bc5f8c1cd50b8ebd6fa72\""
   ]
  },
  {
   "cell_type": "code",
   "execution_count": 30,
   "id": "9c42aea8",
   "metadata": {},
   "outputs": [],
   "source": [
    "# List of cities to get weather data for\n",
    "cities = ['Lagos', 'Warri', 'Benin', 'New York', 'Tokyo', 'London', 'Sydney']"
   ]
  },
  {
   "cell_type": "code",
   "execution_count": 32,
   "id": "6195e5d2",
   "metadata": {},
   "outputs": [],
   "source": [
    "# Initialize an empty list to store the weather data\n",
    "weather_data = []"
   ]
  },
  {
   "cell_type": "code",
   "execution_count": 34,
   "id": "e83175bd",
   "metadata": {},
   "outputs": [],
   "source": [
    "# Base URL of the API endpoint\n",
    "url = \"http://api.openweathermap.org/data/2.5/weather\""
   ]
  },
  {
   "cell_type": "code",
   "execution_count": 40,
   "id": "7763d22f",
   "metadata": {},
   "outputs": [
    {
     "name": "stdout",
     "output_type": "stream",
     "text": [
      "\n",
      "Weather Data:\n"
     ]
    },
    {
     "data": {
      "text/html": [
       "<div>\n",
       "<style scoped>\n",
       "    .dataframe tbody tr th:only-of-type {\n",
       "        vertical-align: middle;\n",
       "    }\n",
       "\n",
       "    .dataframe tbody tr th {\n",
       "        vertical-align: top;\n",
       "    }\n",
       "\n",
       "    .dataframe thead th {\n",
       "        text-align: right;\n",
       "    }\n",
       "</style>\n",
       "<table border=\"1\" class=\"dataframe\">\n",
       "  <thead>\n",
       "    <tr style=\"text-align: right;\">\n",
       "      <th></th>\n",
       "      <th>City</th>\n",
       "      <th>Temperature (°C)</th>\n",
       "      <th>Weather Description</th>\n",
       "      <th>Humidity (%)</th>\n",
       "      <th>Wind Speed (m/s)</th>\n",
       "    </tr>\n",
       "  </thead>\n",
       "  <tbody>\n",
       "    <tr>\n",
       "      <th>0</th>\n",
       "      <td>Lagos</td>\n",
       "      <td>26.18</td>\n",
       "      <td>light rain</td>\n",
       "      <td>76</td>\n",
       "      <td>2.50</td>\n",
       "    </tr>\n",
       "    <tr>\n",
       "      <th>1</th>\n",
       "      <td>Warri</td>\n",
       "      <td>30.13</td>\n",
       "      <td>light rain</td>\n",
       "      <td>66</td>\n",
       "      <td>1.45</td>\n",
       "    </tr>\n",
       "    <tr>\n",
       "      <th>2</th>\n",
       "      <td>Benin</td>\n",
       "      <td>27.91</td>\n",
       "      <td>overcast clouds</td>\n",
       "      <td>75</td>\n",
       "      <td>2.01</td>\n",
       "    </tr>\n",
       "    <tr>\n",
       "      <th>3</th>\n",
       "      <td>New York</td>\n",
       "      <td>15.85</td>\n",
       "      <td>clear sky</td>\n",
       "      <td>89</td>\n",
       "      <td>4.12</td>\n",
       "    </tr>\n",
       "    <tr>\n",
       "      <th>4</th>\n",
       "      <td>Tokyo</td>\n",
       "      <td>23.54</td>\n",
       "      <td>broken clouds</td>\n",
       "      <td>71</td>\n",
       "      <td>5.66</td>\n",
       "    </tr>\n",
       "    <tr>\n",
       "      <th>5</th>\n",
       "      <td>London</td>\n",
       "      <td>15.71</td>\n",
       "      <td>overcast clouds</td>\n",
       "      <td>93</td>\n",
       "      <td>3.60</td>\n",
       "    </tr>\n",
       "    <tr>\n",
       "      <th>6</th>\n",
       "      <td>Sydney</td>\n",
       "      <td>15.51</td>\n",
       "      <td>few clouds</td>\n",
       "      <td>74</td>\n",
       "      <td>5.14</td>\n",
       "    </tr>\n",
       "    <tr>\n",
       "      <th>7</th>\n",
       "      <td>Lagos</td>\n",
       "      <td>26.18</td>\n",
       "      <td>light rain</td>\n",
       "      <td>76</td>\n",
       "      <td>2.50</td>\n",
       "    </tr>\n",
       "    <tr>\n",
       "      <th>8</th>\n",
       "      <td>Warri</td>\n",
       "      <td>30.13</td>\n",
       "      <td>light rain</td>\n",
       "      <td>66</td>\n",
       "      <td>1.45</td>\n",
       "    </tr>\n",
       "    <tr>\n",
       "      <th>9</th>\n",
       "      <td>Benin</td>\n",
       "      <td>27.91</td>\n",
       "      <td>overcast clouds</td>\n",
       "      <td>75</td>\n",
       "      <td>2.01</td>\n",
       "    </tr>\n",
       "    <tr>\n",
       "      <th>10</th>\n",
       "      <td>New York</td>\n",
       "      <td>15.85</td>\n",
       "      <td>clear sky</td>\n",
       "      <td>89</td>\n",
       "      <td>4.12</td>\n",
       "    </tr>\n",
       "    <tr>\n",
       "      <th>11</th>\n",
       "      <td>Tokyo</td>\n",
       "      <td>23.54</td>\n",
       "      <td>broken clouds</td>\n",
       "      <td>71</td>\n",
       "      <td>5.66</td>\n",
       "    </tr>\n",
       "    <tr>\n",
       "      <th>12</th>\n",
       "      <td>London</td>\n",
       "      <td>15.71</td>\n",
       "      <td>overcast clouds</td>\n",
       "      <td>93</td>\n",
       "      <td>3.60</td>\n",
       "    </tr>\n",
       "    <tr>\n",
       "      <th>13</th>\n",
       "      <td>Sydney</td>\n",
       "      <td>15.51</td>\n",
       "      <td>few clouds</td>\n",
       "      <td>74</td>\n",
       "      <td>5.14</td>\n",
       "    </tr>\n",
       "  </tbody>\n",
       "</table>\n",
       "</div>"
      ],
      "text/plain": [
       "        City  Temperature (°C) Weather Description  Humidity (%)  \\\n",
       "0      Lagos             26.18          light rain            76   \n",
       "1      Warri             30.13          light rain            66   \n",
       "2      Benin             27.91     overcast clouds            75   \n",
       "3   New York             15.85           clear sky            89   \n",
       "4      Tokyo             23.54       broken clouds            71   \n",
       "5     London             15.71     overcast clouds            93   \n",
       "6     Sydney             15.51          few clouds            74   \n",
       "7      Lagos             26.18          light rain            76   \n",
       "8      Warri             30.13          light rain            66   \n",
       "9      Benin             27.91     overcast clouds            75   \n",
       "10  New York             15.85           clear sky            89   \n",
       "11     Tokyo             23.54       broken clouds            71   \n",
       "12    London             15.71     overcast clouds            93   \n",
       "13    Sydney             15.51          few clouds            74   \n",
       "\n",
       "    Wind Speed (m/s)  \n",
       "0               2.50  \n",
       "1               1.45  \n",
       "2               2.01  \n",
       "3               4.12  \n",
       "4               5.66  \n",
       "5               3.60  \n",
       "6               5.14  \n",
       "7               2.50  \n",
       "8               1.45  \n",
       "9               2.01  \n",
       "10              4.12  \n",
       "11              5.66  \n",
       "12              3.60  \n",
       "13              5.14  "
      ]
     },
     "execution_count": 40,
     "metadata": {},
     "output_type": "execute_result"
    }
   ],
   "source": [
    "# Loop through each city to get weather data\n",
    "for city in cities:\n",
    "    # Parameters for the API request\n",
    "    params = {\n",
    "        'q': city,\n",
    "        'appid': api_key,\n",
    "        'units': 'metric'  # Get temperature in Celsius\n",
    "    }\n",
    "    \n",
    "    # Send a GET request to the API\n",
    "    response = requests.get(url, params=params)\n",
    "    \n",
    "    # Check if the request was successful\n",
    "    if response.status_code == 200:\n",
    "        # Parse the JSON response\n",
    "        data = response.json()\n",
    "        \n",
    "        # Extract relevant information\n",
    "        city_name = data['name']\n",
    "        temperature = data['main']['temp']\n",
    "        weather_description = data['weather'][0]['description']\n",
    "        humidity = data['main']['humidity']\n",
    "        wind_speed = data['wind']['speed']\n",
    "        \n",
    "        # Append the data to the list\n",
    "        weather_data.append({\n",
    "            'City': city_name,\n",
    "            'Temperature (°C)': temperature,\n",
    "            'Weather Description': weather_description,\n",
    "            'Humidity (%)': humidity,\n",
    "            'Wind Speed (m/s)': wind_speed\n",
    "        })\n",
    "    else:\n",
    "        print(f\"Failed to retrieve data for {city}: {response.status_code}\")\n",
    "\n",
    "# Create a DataFrame from the collected weather data\n",
    "df = pd.DataFrame(weather_data)\n",
    "\n",
    "# Display the DataFrame\n",
    "print(\"\\nWeather Data:\")\n",
    "df"
   ]
  },
  {
   "cell_type": "code",
   "execution_count": 42,
   "id": "e55a8719",
   "metadata": {},
   "outputs": [
    {
     "name": "stdout",
     "output_type": "stream",
     "text": [
      "\n",
      "Average Temperature across all cities: 22.12°C\n",
      "City with the highest wind speed: Tokyo\n",
      "Number of cities experiencing clear weather: 2\n"
     ]
    }
   ],
   "source": [
    "# Analyze the data\n",
    "average_temperature = df['Temperature (°C)'].mean()\n",
    "highest_wind_city = df.loc[df['Wind Speed (m/s)'].idxmax(), 'City']\n",
    "clear_weather_count = df[df['Weather Description'].str.contains('clear', case=False)].shape[0]\n",
    "\n",
    "# Print the analysis results\n",
    "print(f\"\\nAverage Temperature across all cities: {average_temperature:.2f}°C\")\n",
    "print(f\"City with the highest wind speed: {highest_wind_city}\")\n",
    "print(f\"Number of cities experiencing clear weather: {clear_weather_count}\")"
   ]
  },
  {
   "cell_type": "markdown",
   "id": "858ba24b",
   "metadata": {},
   "source": [
    "### 9. Let's use the `OpenWeatherMap 5-Day/3-Hour Forecast API` to get a 5-day forecast for multiple cities and perform some simple analysis using pandas.\n",
    "\n",
    "This API provides weather data for the next 5 days in 3-hour intervals, which allows you to forecast weather trends over the next few days."
   ]
  },
  {
   "cell_type": "markdown",
   "id": "7d456a54",
   "metadata": {},
   "source": [
    "#### Problem Statement:\n",
    "1. **API Task**: Retrieve the 5-day weather forecast for at least five different cities using the OpenWeatherMap 5-Day/3-Hour Forecast API.\n",
    "2. **Data Requirements**: For each city, collect the following data points:\n",
    "   - City Name\n",
    "   - Date and Time (for each 3-hour interval)\n",
    "   - Forecasted Temperature (in °C)\n",
    "   - Weather Description (e.g., clear, rainy, cloudy)\n",
    "   - Humidity (%)\n",
    "   - Wind Speed (m/s)\n",
    "\n",
    "3. **Analysis Task**: After collecting the data, store it in a pandas DataFrame and perform the following analyses:\n",
    "   - Calculate the average forecasted temperature for each city over the next 5 days.\n",
    "   - Identify the time and date when the highest temperature is expected in each city.\n",
    "   - Plot temperature trends over the next 5 days for one of the cities."
   ]
  },
  {
   "cell_type": "code",
   "execution_count": 46,
   "id": "9b2a11e7",
   "metadata": {},
   "outputs": [],
   "source": [
    "# Your OpenWeatherMap API key\n",
    "api_key = \"9cf3177a3f8bc5f8c1cd50b8ebd6fa72\"\n",
    "\n",
    "# List of cities to get 5-day weather forecast for\n",
    "cities = ['Lagos', 'Warri', 'Benin', 'New York', 'Tokyo', 'London', 'Sydney']\n",
    "\n",
    "# Initialize an empty list to store the forecast data\n",
    "forecast_data = []\n",
    "\n",
    "# Base URL of the API endpoint for the 5-day forecast\n",
    "url = \"http://api.openweathermap.org/data/2.5/forecast\""
   ]
  },
  {
   "cell_type": "code",
   "execution_count": 48,
   "id": "94779a7a",
   "metadata": {},
   "outputs": [
    {
     "name": "stdout",
     "output_type": "stream",
     "text": [
      "\n",
      "5-Day Weather Forecast:\n"
     ]
    },
    {
     "data": {
      "text/html": [
       "<div>\n",
       "<style scoped>\n",
       "    .dataframe tbody tr th:only-of-type {\n",
       "        vertical-align: middle;\n",
       "    }\n",
       "\n",
       "    .dataframe tbody tr th {\n",
       "        vertical-align: top;\n",
       "    }\n",
       "\n",
       "    .dataframe thead th {\n",
       "        text-align: right;\n",
       "    }\n",
       "</style>\n",
       "<table border=\"1\" class=\"dataframe\">\n",
       "  <thead>\n",
       "    <tr style=\"text-align: right;\">\n",
       "      <th></th>\n",
       "      <th>City</th>\n",
       "      <th>Date &amp; Time</th>\n",
       "      <th>Temperature (°C)</th>\n",
       "      <th>Weather Description</th>\n",
       "      <th>Humidity (%)</th>\n",
       "      <th>Wind Speed (m/s)</th>\n",
       "    </tr>\n",
       "  </thead>\n",
       "  <tbody>\n",
       "    <tr>\n",
       "      <th>0</th>\n",
       "      <td>Lagos</td>\n",
       "      <td>2024-09-30 12:00:00</td>\n",
       "      <td>28.18</td>\n",
       "      <td>light rain</td>\n",
       "      <td>76</td>\n",
       "      <td>3.31</td>\n",
       "    </tr>\n",
       "    <tr>\n",
       "      <th>1</th>\n",
       "      <td>Lagos</td>\n",
       "      <td>2024-09-30 15:00:00</td>\n",
       "      <td>27.83</td>\n",
       "      <td>light rain</td>\n",
       "      <td>78</td>\n",
       "      <td>3.77</td>\n",
       "    </tr>\n",
       "    <tr>\n",
       "      <th>2</th>\n",
       "      <td>Lagos</td>\n",
       "      <td>2024-09-30 18:00:00</td>\n",
       "      <td>25.04</td>\n",
       "      <td>light rain</td>\n",
       "      <td>89</td>\n",
       "      <td>2.76</td>\n",
       "    </tr>\n",
       "    <tr>\n",
       "      <th>3</th>\n",
       "      <td>Lagos</td>\n",
       "      <td>2024-09-30 21:00:00</td>\n",
       "      <td>24.66</td>\n",
       "      <td>broken clouds</td>\n",
       "      <td>90</td>\n",
       "      <td>2.18</td>\n",
       "    </tr>\n",
       "    <tr>\n",
       "      <th>4</th>\n",
       "      <td>Lagos</td>\n",
       "      <td>2024-10-01 00:00:00</td>\n",
       "      <td>24.16</td>\n",
       "      <td>broken clouds</td>\n",
       "      <td>93</td>\n",
       "      <td>1.88</td>\n",
       "    </tr>\n",
       "    <tr>\n",
       "      <th>...</th>\n",
       "      <td>...</td>\n",
       "      <td>...</td>\n",
       "      <td>...</td>\n",
       "      <td>...</td>\n",
       "      <td>...</td>\n",
       "      <td>...</td>\n",
       "    </tr>\n",
       "    <tr>\n",
       "      <th>275</th>\n",
       "      <td>Sydney</td>\n",
       "      <td>2024-10-04 21:00:00</td>\n",
       "      <td>15.98</td>\n",
       "      <td>light rain</td>\n",
       "      <td>76</td>\n",
       "      <td>2.85</td>\n",
       "    </tr>\n",
       "    <tr>\n",
       "      <th>276</th>\n",
       "      <td>Sydney</td>\n",
       "      <td>2024-10-05 00:00:00</td>\n",
       "      <td>19.78</td>\n",
       "      <td>moderate rain</td>\n",
       "      <td>70</td>\n",
       "      <td>6.71</td>\n",
       "    </tr>\n",
       "    <tr>\n",
       "      <th>277</th>\n",
       "      <td>Sydney</td>\n",
       "      <td>2024-10-05 03:00:00</td>\n",
       "      <td>24.98</td>\n",
       "      <td>clear sky</td>\n",
       "      <td>34</td>\n",
       "      <td>6.53</td>\n",
       "    </tr>\n",
       "    <tr>\n",
       "      <th>278</th>\n",
       "      <td>Sydney</td>\n",
       "      <td>2024-10-05 06:00:00</td>\n",
       "      <td>20.17</td>\n",
       "      <td>scattered clouds</td>\n",
       "      <td>62</td>\n",
       "      <td>6.88</td>\n",
       "    </tr>\n",
       "    <tr>\n",
       "      <th>279</th>\n",
       "      <td>Sydney</td>\n",
       "      <td>2024-10-05 09:00:00</td>\n",
       "      <td>16.92</td>\n",
       "      <td>few clouds</td>\n",
       "      <td>80</td>\n",
       "      <td>2.97</td>\n",
       "    </tr>\n",
       "  </tbody>\n",
       "</table>\n",
       "<p>280 rows × 6 columns</p>\n",
       "</div>"
      ],
      "text/plain": [
       "       City          Date & Time  Temperature (°C) Weather Description  \\\n",
       "0     Lagos  2024-09-30 12:00:00             28.18          light rain   \n",
       "1     Lagos  2024-09-30 15:00:00             27.83          light rain   \n",
       "2     Lagos  2024-09-30 18:00:00             25.04          light rain   \n",
       "3     Lagos  2024-09-30 21:00:00             24.66       broken clouds   \n",
       "4     Lagos  2024-10-01 00:00:00             24.16       broken clouds   \n",
       "..      ...                  ...               ...                 ...   \n",
       "275  Sydney  2024-10-04 21:00:00             15.98          light rain   \n",
       "276  Sydney  2024-10-05 00:00:00             19.78       moderate rain   \n",
       "277  Sydney  2024-10-05 03:00:00             24.98           clear sky   \n",
       "278  Sydney  2024-10-05 06:00:00             20.17    scattered clouds   \n",
       "279  Sydney  2024-10-05 09:00:00             16.92          few clouds   \n",
       "\n",
       "     Humidity (%)  Wind Speed (m/s)  \n",
       "0              76              3.31  \n",
       "1              78              3.77  \n",
       "2              89              2.76  \n",
       "3              90              2.18  \n",
       "4              93              1.88  \n",
       "..            ...               ...  \n",
       "275            76              2.85  \n",
       "276            70              6.71  \n",
       "277            34              6.53  \n",
       "278            62              6.88  \n",
       "279            80              2.97  \n",
       "\n",
       "[280 rows x 6 columns]"
      ]
     },
     "execution_count": 48,
     "metadata": {},
     "output_type": "execute_result"
    }
   ],
   "source": [
    "# Loop through each city to get the 5-day weather forecast\n",
    "for city in cities:\n",
    "    # Parameters for the API request\n",
    "    params = {\n",
    "        'q': city,\n",
    "        'appid': api_key,\n",
    "        'units': 'metric'  # Get temperature in Celsius\n",
    "    }\n",
    "    \n",
    "    # Send a GET request to the API\n",
    "    response = requests.get(url, params=params)\n",
    "    \n",
    "    # Check if the request was successful\n",
    "    if response.status_code == 200:\n",
    "        city_forecast = response.json()\n",
    "        \n",
    "        # Extract relevant information for each 3-hour interval in the forecast\n",
    "        for forecast in city_forecast['list']:\n",
    "            forecast_data.append({\n",
    "                'City': city_forecast['city']['name'],\n",
    "                'Date & Time': forecast['dt_txt'],\n",
    "                'Temperature (°C)': forecast['main']['temp'],\n",
    "                'Weather Description': forecast['weather'][0]['description'],\n",
    "                'Humidity (%)': forecast['main']['humidity'],\n",
    "                'Wind Speed (m/s)': forecast['wind']['speed']\n",
    "            })\n",
    "    else:\n",
    "        print(f\"Failed to retrieve forecast for {city}: {response.status_code}\")\n",
    "\n",
    "# Create a DataFrame from the collected forecast data\n",
    "import pandas as pd\n",
    "df = pd.DataFrame(forecast_data)\n",
    "\n",
    "# Display the DataFrame\n",
    "print(\"\\n5-Day Weather Forecast:\")\n",
    "df"
   ]
  },
  {
   "cell_type": "code",
   "execution_count": 50,
   "id": "36d6fa8a",
   "metadata": {},
   "outputs": [
    {
     "name": "stdout",
     "output_type": "stream",
     "text": [
      "\n",
      "Average Forecasted Temperature over the next 5 days:\n",
      "City\n",
      "Benin       24.03975\n",
      "Lagos       25.90125\n",
      "London      12.98025\n",
      "New York    19.40725\n",
      "Sydney      16.34250\n",
      "Tokyo       23.60250\n",
      "Warri       25.36675\n",
      "Name: Temperature (°C), dtype: float64\n",
      "\n",
      "Time of Highest Forecasted Temperature:\n",
      "         City          Date & Time  Temperature (°C)\n",
      "105     Benin  2024-10-03 15:00:00             30.04\n",
      "32      Lagos  2024-10-04 12:00:00             30.33\n",
      "225    London  2024-10-03 15:00:00             16.85\n",
      "154  New York  2024-10-04 18:00:00             23.42\n",
      "277    Sydney  2024-10-05 03:00:00             24.98\n",
      "174     Tokyo  2024-10-02 06:00:00             29.90\n",
      "40      Warri  2024-09-30 12:00:00             29.46\n"
     ]
    }
   ],
   "source": [
    "# Analyze the data\n",
    "average_temperature = df.groupby('City')['Temperature (°C)'].mean()\n",
    "highest_temp_time = df.loc[df.groupby('City')['Temperature (°C)'].idxmax()]\n",
    "\n",
    "# Print the analysis results\n",
    "print(\"\\nAverage Forecasted Temperature over the next 5 days:\")\n",
    "print(average_temperature)\n",
    "\n",
    "print(\"\\nTime of Highest Forecasted Temperature:\")\n",
    "print(highest_temp_time[['City', 'Date & Time', 'Temperature (°C)']])"
   ]
  },
  {
   "cell_type": "code",
   "execution_count": 52,
   "id": "9bf43d06",
   "metadata": {},
   "outputs": [
    {
     "data": {
      "image/png": "[encoded data removed]",
      "text/plain": [
       "<Figure size 1200x600 with 1 Axes>"
      ]
     },
     "metadata": {},
     "output_type": "display_data"
    }
   ],
   "source": [
    "import matplotlib.pyplot as plt  # Import the plotting library\n",
    "\n",
    "# Filter the DataFrame to get only the weather data for Lagos\n",
    "lagos_forecast = df[df['City'] == 'Lagos']\n",
    "\n",
    "# Create a new figure for the plot with a specified size (width=12, height=6)\n",
    "plt.figure(figsize=(12, 6))\n",
    "\n",
    "# Plot the temperature trend for Lagos over time, using the 'Date & Time' as the x-axis and 'Temperature (°C)' as the y-axis\n",
    "# 'marker='o'' adds circle markers at each data point\n",
    "plt.plot(lagos_forecast['Date & Time'], lagos_forecast['Temperature (°C)'], marker='o')\n",
    "\n",
    "# Add a title to the plot\n",
    "plt.title('Temperature Trends in Lagos Over the Next 5 Days')\n",
    "\n",
    "# Label the x-axis (Date & Time) and the y-axis (Temperature in °C)\n",
    "plt.xlabel('Date & Time')\n",
    "plt.ylabel('Temperature (°C)')\n",
    "\n",
    "# Rotate the x-axis labels (date and time) by 45 degrees for better readability\n",
    "plt.xticks(rotation=45)\n",
    "\n",
    "# Add a grid to the plot for easier visualization of the data points\n",
    "plt.grid()\n",
    "\n",
    "# Display the plot\n",
    "plt.show()"
   ]
  },
  {
   "cell_type": "code",
   "execution_count": null,
   "id": "9fa73bef-cbe2-45fa-af65-8e40700edbdd",
   "metadata": {},
   "outputs": [],
   "source": [
    "url = \"https://icanhazdadjoke.com/\"\n",
    "headers = {\"Accept\": \"text/plain\"}\n",
    "response = requests.get(url, headers=headers)\n",
    "\n",
    "if response.status_code == 200:\n",
    "    print(response.text)\n",
    "else:\n",
    "    print(\"Failed to retrieve a joke\")"
   ]
  }
 ],
 "metadata": {
  "kernelspec": {
   "display_name": "Python 3 (ipykernel)",
   "language": "python",
   "name": "python3"
  },
  "language_info": {
   "codemirror_mode": {
    "name": "ipython",
    "version": 3
   },
   "file_extension": ".py",
   "mimetype": "text/x-python",
   "name": "python",
   "nbconvert_exporter": "python",
   "pygments_lexer": "ipython3",
   "version": "3.11.7"
  }
 },
 "nbformat": 4,
 "nbformat_minor": 5
}
